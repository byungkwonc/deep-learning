{
 "cells": [
  {
   "cell_type": "code",
   "execution_count": null,
   "metadata": {},
   "outputs": [],
   "source": [
    "import os\n",
    "import fitz  # pip install --upgrade pymupdf\n",
    "from tqdm import tqdm # pip install tqdm\n",
    "\n",
    "doc = fitz.Document(\"resource/2023_B1_NEX_16_E_220525_1606.pdf\")\n",
    "\n",
    "for i in tqdm(range(len(doc)), desc=\"pages\"):\n",
    "    for img in tqdm(doc.get_page_images(i), desc=\"page_images\"):\n",
    "        xref = img[0]\n",
    "        image = doc.extract_image(xref)\n",
    "        pix = fitz.Pixmap(doc, xref)\n",
    "        pix.save(\"%s_p%s-%s.png\" % (\"resource\", i, xref))\n",
    "        "
   ]
  },
  {
   "cell_type": "code",
   "execution_count": null,
   "metadata": {},
   "outputs": [],
   "source": [
    "import fitz\n",
    "# Open the PDF file\n",
    "pdf_file = fitz.open(\"resource/2023_B1_NEX_16_E_220525_1606.pdf\")\n",
    "print('페이지수:',pdf_file.page_count)\n",
    "# Loop through all the pages in the PDF\n",
    "for page_num in range(pdf_file.page_count):\n",
    "    print('현재페이지:',page_num)\n",
    "    page = pdf_file[page_num]\n",
    "    # Loop through all the images in the page\n",
    "#    for img in page.get_images():\n",
    "    for img in page.get_image_list():\n",
    "        pix = fitz.Pixmap(pdf_file, img)\n",
    "        # Save the image to a file\n",
    "        if pix.n >= 4:\n",
    "            img_file = \"page\" + str(page_num) + \"_img\" + str(img[0]) + \".png\"\n",
    "        else:\n",
    "            img_file = \"page\" + str(page_num) + \"_img\" + str(img[0]) + \".bmp\"\n",
    "        pix.write_to_file(img_file)\n",
    "# Close the PDF file\n",
    "pdf_file.close()"
   ]
  }
 ],
 "metadata": {
  "kernelspec": {
   "display_name": "base",
   "language": "python",
   "name": "python3"
  },
  "language_info": {
   "codemirror_mode": {
    "name": "ipython",
    "version": 3
   },
   "file_extension": ".py",
   "mimetype": "text/x-python",
   "name": "python",
   "nbconvert_exporter": "python",
   "pygments_lexer": "ipython3",
   "version": "3.9.15"
  },
  "orig_nbformat": 4,
  "vscode": {
   "interpreter": {
    "hash": "38cca0c38332a56087b24af0bc80247f4fced29cb4f7f437d91dc159adec9c4e"
   }
  }
 },
 "nbformat": 4,
 "nbformat_minor": 2
}
