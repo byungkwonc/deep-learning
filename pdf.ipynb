{
 "cells": [
  {
   "cell_type": "code",
   "execution_count": 18,
   "metadata": {},
   "outputs": [
    {
     "ename": "AttributeError",
     "evalue": "'Document' object has no attribute 'getPageImageList'",
     "output_type": "error",
     "traceback": [
      "\u001b[0;31m---------------------------------------------------------------------------\u001b[0m",
      "\u001b[0;31mAttributeError\u001b[0m                            Traceback (most recent call last)",
      "Cell \u001b[0;32mIn[18], line 4\u001b[0m\n\u001b[1;32m      2\u001b[0m doc \u001b[39m=\u001b[39m fitz\u001b[39m.\u001b[39mopen(\u001b[39m\"\u001b[39m\u001b[39mresource/2023_B1_NEX_16_E_220525_1606.pdf\u001b[39m\u001b[39m\"\u001b[39m)\n\u001b[1;32m      3\u001b[0m \u001b[39mfor\u001b[39;00m i \u001b[39min\u001b[39;00m \u001b[39mrange\u001b[39m(\u001b[39mlen\u001b[39m(doc)):\n\u001b[0;32m----> 4\u001b[0m     \u001b[39mfor\u001b[39;00m img \u001b[39min\u001b[39;00m doc\u001b[39m.\u001b[39;49mgetPageImageList(i):\n\u001b[1;32m      5\u001b[0m         xref \u001b[39m=\u001b[39m img[\u001b[39m0\u001b[39m]\n\u001b[1;32m      6\u001b[0m         pix \u001b[39m=\u001b[39m fitz\u001b[39m.\u001b[39mPixmap(doc, xref)\n",
      "\u001b[0;31mAttributeError\u001b[0m: 'Document' object has no attribute 'getPageImageList'"
     ]
    }
   ],
   "source": [
    "import fitz\n",
    "doc = fitz.open(\"resource/2023_B1_NEX_16_E_220525_1606.pdf\")\n",
    "for i in range(len(doc)):\n",
    "    for img in doc.getPageImageList(i):\n",
    "        xref = img[0]\n",
    "        pix = fitz.Pixmap(doc, xref)\n",
    "        if pix.n < 5:       # this is GRAY or RGB\n",
    "            pix.writePNG(\"p%s-%s.png\" % (i, xref))\n",
    "        else:               # CMYK: convert to RGB first\n",
    "            pix1 = fitz.Pixmap(fitz.csRGB, pix)\n",
    "            pix1.writePNG(\"p%s-%s.png\" % (i, xref))\n",
    "            pix1 = None\n",
    "        pix = None"
   ]
  },
  {
   "cell_type": "code",
   "execution_count": 21,
   "metadata": {},
   "outputs": [
    {
     "name": "stderr",
     "output_type": "stream",
     "text": [
      "page_images: 100%|██████████| 4/4 [00:00<00:00, 23.15it/s]\n",
      "page_images: 100%|██████████| 3/3 [00:00<00:00, 22.86it/s]\n",
      "page_images: 100%|██████████| 3/3 [00:00<00:00, 39.32it/s]\n",
      "page_images: 100%|██████████| 2/2 [00:00<00:00, 27.25it/s]\n",
      "pages: 100%|██████████| 4/4 [00:00<00:00,  8.62it/s]\n"
     ]
    }
   ],
   "source": [
    "import os\n",
    "import fitz  # pip install --upgrade pymupdf\n",
    "from tqdm import tqdm # pip install tqdm\n",
    "\n",
    "doc = fitz.Document(\"resource/2023_B1_NEX_16_E_220525_1606.pdf\")\n",
    "\n",
    "for i in tqdm(range(len(doc)), desc=\"pages\"):\n",
    "    for img in tqdm(doc.get_page_images(i), desc=\"page_images\"):\n",
    "        xref = img[0]\n",
    "        image = doc.extract_image(xref)\n",
    "        pix = fitz.Pixmap(doc, xref)\n",
    "        pix.save(\"%s_p%s-%s.png\" % (\"resource\", i, xref))\n",
    "        "
   ]
  }
 ],
 "metadata": {
  "kernelspec": {
   "display_name": "base",
   "language": "python",
   "name": "python3"
  },
  "language_info": {
   "codemirror_mode": {
    "name": "ipython",
    "version": 3
   },
   "file_extension": ".py",
   "mimetype": "text/x-python",
   "name": "python",
   "nbconvert_exporter": "python",
   "pygments_lexer": "ipython3",
   "version": "3.9.15"
  },
  "orig_nbformat": 4,
  "vscode": {
   "interpreter": {
    "hash": "38cca0c38332a56087b24af0bc80247f4fced29cb4f7f437d91dc159adec9c4e"
   }
  }
 },
 "nbformat": 4,
 "nbformat_minor": 2
}
