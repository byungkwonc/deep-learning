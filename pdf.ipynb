{
 "cells": [
  {
   "cell_type": "code",
   "execution_count": null,
   "metadata": {},
   "outputs": [],
   "source": [
    "import os\n",
    "import fitz  # pip install --upgrade pymupdf\n",
    "from tqdm import tqdm # pip install tqdm\n",
    "\n",
    "doc = fitz.Document(\"resource/2023_B1_NEX_16_E_220525_1606.pdf\")\n",
    "\n",
    "for i in tqdm(range(len(doc)), desc=\"pages\"):\n",
    "    for img in tqdm(doc.get_page_images(i), desc=\"page_images\"):\n",
    "        xref = img[0]\n",
    "        image = doc.extract_image(xref)\n",
    "        pix = fitz.Pixmap(doc, xref)\n",
    "        pix.save(\"%s_p%s-%s.png\" % (\"resource\", i, xref))\n",
    "        "
   ]
  },
  {
   "cell_type": "code",
   "execution_count": 35,
   "metadata": {},
   "outputs": [
    {
     "name": "stdout",
     "output_type": "stream",
     "text": [
      "페이지수: 4\n",
      "현재페이지: 0\n"
     ]
    },
    {
     "ename": "TypeError",
     "evalue": "Wrong number or type of arguments for overloaded function 'new_Pixmap'.\n  Possible C/C++ prototypes are:\n    Pixmap::Pixmap(struct Colorspace *,PyObject *,int)\n    Pixmap::Pixmap(struct Colorspace *,struct Pixmap *)\n    Pixmap::Pixmap(struct Pixmap *,struct Pixmap *)\n    Pixmap::Pixmap(struct Pixmap *,float,float,PyObject *)\n    Pixmap::Pixmap(struct Pixmap *,int)\n    Pixmap::Pixmap(struct Colorspace *,int,int,PyObject *,int)\n    Pixmap::Pixmap(PyObject *)\n    Pixmap::Pixmap(struct Document *,int)\n",
     "output_type": "error",
     "traceback": [
      "\u001b[0;31m---------------------------------------------------------------------------\u001b[0m",
      "\u001b[0;31mTypeError\u001b[0m                                 Traceback (most recent call last)",
      "Cell \u001b[0;32mIn[35], line 12\u001b[0m\n\u001b[1;32m      9\u001b[0m     \u001b[39m# Loop through all the images in the page\u001b[39;00m\n\u001b[1;32m     10\u001b[0m     \u001b[39mfor\u001b[39;00m img \u001b[39min\u001b[39;00m page\u001b[39m.\u001b[39mget_images():\n\u001b[1;32m     11\u001b[0m \u001b[39m#    for img in page.get_image_list():\u001b[39;00m\n\u001b[0;32m---> 12\u001b[0m         pix \u001b[39m=\u001b[39m fitz\u001b[39m.\u001b[39;49mPixmap(pdf_file, img)\n\u001b[1;32m     13\u001b[0m         \u001b[39m# Save the image to a file\u001b[39;00m\n\u001b[1;32m     14\u001b[0m         \u001b[39mif\u001b[39;00m pix\u001b[39m.\u001b[39mn \u001b[39m>\u001b[39m\u001b[39m=\u001b[39m \u001b[39m4\u001b[39m:\n",
      "File \u001b[0;32m/opt/homebrew/anaconda3/lib/python3.9/site-packages/fitz/fitz.py:6823\u001b[0m, in \u001b[0;36mPixmap.__init__\u001b[0;34m(self, *args)\u001b[0m\n\u001b[1;32m   6811\u001b[0m \u001b[39mdef\u001b[39;00m \u001b[39m__init__\u001b[39m(\u001b[39mself\u001b[39m, \u001b[39m*\u001b[39margs):\n\u001b[1;32m   6812\u001b[0m     \u001b[39m\"\"\"Pixmap(colorspace, irect, alpha) - empty pixmap.\u001b[39;00m\n\u001b[1;32m   6813\u001b[0m \u001b[39m    Pixmap(colorspace, src) - copy changing colorspace.\u001b[39;00m\n\u001b[1;32m   6814\u001b[0m \u001b[39m    Pixmap(src, width, height,[clip]) - scaled copy, float dimensions.\u001b[39;00m\n\u001b[0;32m   (...)\u001b[0m\n\u001b[1;32m   6820\u001b[0m \u001b[39m    Pixmap(PDFdoc, xref) - from an image xref in a PDF document.\u001b[39;00m\n\u001b[1;32m   6821\u001b[0m \u001b[39m    \"\"\"\u001b[39;00m\n\u001b[0;32m-> 6823\u001b[0m     _fitz\u001b[39m.\u001b[39mPixmap_swiginit(\u001b[39mself\u001b[39m, _fitz\u001b[39m.\u001b[39;49mnew_Pixmap(\u001b[39m*\u001b[39;49margs))\n",
      "\u001b[0;31mTypeError\u001b[0m: Wrong number or type of arguments for overloaded function 'new_Pixmap'.\n  Possible C/C++ prototypes are:\n    Pixmap::Pixmap(struct Colorspace *,PyObject *,int)\n    Pixmap::Pixmap(struct Colorspace *,struct Pixmap *)\n    Pixmap::Pixmap(struct Pixmap *,struct Pixmap *)\n    Pixmap::Pixmap(struct Pixmap *,float,float,PyObject *)\n    Pixmap::Pixmap(struct Pixmap *,int)\n    Pixmap::Pixmap(struct Colorspace *,int,int,PyObject *,int)\n    Pixmap::Pixmap(PyObject *)\n    Pixmap::Pixmap(struct Document *,int)\n"
     ]
    }
   ],
   "source": [
    "import fitz\n",
    "# Open the PDF file\n",
    "pdf_file = fitz.open(\"resource/2023_B1_NEX_16_E_220525_1606.pdf\")\n",
    "print('페이지수:',pdf_file.page_count)\n",
    "# Loop through all the pages in the PDF\n",
    "for page_num in range(pdf_file.page_count):\n",
    "    print('현재페이지:',page_num)\n",
    "    page = pdf_file[page_num]\n",
    "    # Loop through all the images in the page\n",
    "#    for img in page.get_images():\n",
    "    for img in page.get_image_list():\n",
    "        pix = fitz.Pixmap(pdf_file, img)\n",
    "        # Save the image to a file\n",
    "        if pix.n >= 4:\n",
    "            img_file = \"page\" + str(page_num) + \"_img\" + str(img[0]) + \".png\"\n",
    "        else:\n",
    "            img_file = \"page\" + str(page_num) + \"_img\" + str(img[0]) + \".bmp\"\n",
    "        pix.write_to_file(img_file)\n",
    "# Close the PDF file\n",
    "pdf_file.close()"
   ]
  }
 ],
 "metadata": {
  "kernelspec": {
   "display_name": "base",
   "language": "python",
   "name": "python3"
  },
  "language_info": {
   "codemirror_mode": {
    "name": "ipython",
    "version": 3
   },
   "file_extension": ".py",
   "mimetype": "text/x-python",
   "name": "python",
   "nbconvert_exporter": "python",
   "pygments_lexer": "ipython3",
   "version": "3.9.15"
  },
  "orig_nbformat": 4,
  "vscode": {
   "interpreter": {
    "hash": "38cca0c38332a56087b24af0bc80247f4fced29cb4f7f437d91dc159adec9c4e"
   }
  }
 },
 "nbformat": 4,
 "nbformat_minor": 2
}
